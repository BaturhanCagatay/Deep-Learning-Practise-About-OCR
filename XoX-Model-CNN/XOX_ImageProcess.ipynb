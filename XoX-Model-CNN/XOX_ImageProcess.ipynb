{
  "cells": [
    {
      "cell_type": "markdown",
      "metadata": {
        "id": "qfGahJ7UTovh"
      },
      "source": [
        "# Deneme 1"
      ]
    },
    {
      "cell_type": "code",
      "execution_count": null,
      "metadata": {
        "id": "J74yOT8-Mezk"
      },
      "outputs": [],
      "source": [
        "import numpy as np\n",
        "import tensorflow as tf\n",
        "from tensorflow.keras import layers, models\n",
        "from tensorflow.keras.utils import to_categorical"
      ]
    },
    {
      "cell_type": "code",
      "execution_count": null,
      "metadata": {
        "id": "kwoYjVFCM7AW"
      },
      "outputs": [],
      "source": [
        "# 1. Veri Hazırlığı\n",
        "def xox_veri_hazirla(num_samples=1000):\n",
        "    \"\"\"\n",
        "    Rastgele XOX tahtaları ve sonuçlar oluşturur.\n",
        "    \"\"\"\n",
        "    X = np.random.randint(-1, 2, (num_samples, 3, 3, 1))  # 3x3 tahtalar\n",
        "    y = []\n",
        "    for tahta in X:\n",
        "        # Basit bir kazanan belirleyici\n",
        "        if np.any(np.sum(tahta, axis=0) == 3) or np.any(np.sum(tahta, axis=1) == 3):\n",
        "            y.append(1)  # X kazandı\n",
        "        elif np.any(np.sum(tahta, axis=0) == -3) or np.any(np.sum(tahta, axis=1) == -3):\n",
        "            y.append(2)  # O kazandı\n",
        "        elif np.trace(tahta) == 3 or np.trace(np.fliplr(tahta)) == 3:\n",
        "            y.append(1)  # X kazandı\n",
        "        elif np.trace(tahta) == -3 or np.trace(np.fliplr(tahta)) == -3:\n",
        "            y.append(2)  # O kazandı\n",
        "        else:\n",
        "            y.append(0)  # Berabere\n",
        "    return X, to_categorical(y, 3)\n"
      ]
    },
    {
      "cell_type": "code",
      "execution_count": null,
      "metadata": {
        "id": "Xis9j0bhM8ej"
      },
      "outputs": [],
      "source": [
        "# Veriyi oluştur\n",
        "X, y = xox_veri_hazirla(num_samples=100000)\n"
      ]
    },
    {
      "cell_type": "code",
      "execution_count": null,
      "metadata": {
        "id": "UlRHO1OLM-sN"
      },
      "outputs": [],
      "source": [
        "# Eğitim ve test verisini ayır\n",
        "from sklearn.model_selection import train_test_split\n",
        "X_train, X_test, y_train, y_test = train_test_split(X, y, test_size=0.2, random_state=42)\n"
      ]
    },
    {
      "cell_type": "code",
      "execution_count": null,
      "metadata": {
        "id": "aAh0qeY3NDAO"
      },
      "outputs": [],
      "source": [
        "# 2. Model Oluşturma\n",
        "model = models.Sequential([\n",
        "    layers.Conv2D(32, (2, 2), activation='relu', input_shape=(3, 3, 1)),\n",
        "    layers.MaxPooling2D((2, 2)),\n",
        "    layers.Flatten(),\n",
        "    layers.Dense(64, activation='relu'),\n",
        "    layers.Dense(3, activation='softmax')  # 3 sınıf: X kazandı, O kazandı, berabere\n",
        "])"
      ]
    },
    {
      "cell_type": "code",
      "execution_count": null,
      "metadata": {
        "id": "RUNNMQOONH-T"
      },
      "outputs": [],
      "source": [
        "# Modeli derleme\n",
        "model.compile(optimizer='adam',\n",
        "              loss='categorical_crossentropy',\n",
        "              metrics=['accuracy'])"
      ]
    },
    {
      "cell_type": "code",
      "execution_count": null,
      "metadata": {
        "colab": {
          "base_uri": "https://localhost:8080/"
        },
        "id": "Fxn60BYJNLEz",
        "outputId": "abe21de3-c918-4f33-ec79-3491e499b1c0"
      },
      "outputs": [
        {
          "name": "stdout",
          "output_type": "stream",
          "text": [
            "Epoch 1/20\n",
            "\u001b[1m2250/2250\u001b[0m \u001b[32m━━━━━━━━━━━━━━━━━━━━\u001b[0m\u001b[37m\u001b[0m \u001b[1m5s\u001b[0m 2ms/step - accuracy: 0.6775 - loss: 0.7275 - val_accuracy: 0.7354 - val_loss: 0.5888\n",
            "Epoch 2/20\n",
            "\u001b[1m2250/2250\u001b[0m \u001b[32m━━━━━━━━━━━━━━━━━━━━\u001b[0m\u001b[37m\u001b[0m \u001b[1m4s\u001b[0m 2ms/step - accuracy: 0.7431 - loss: 0.5788 - val_accuracy: 0.7820 - val_loss: 0.5166\n",
            "Epoch 3/20\n",
            "\u001b[1m2250/2250\u001b[0m \u001b[32m━━━━━━━━━━━━━━━━━━━━\u001b[0m\u001b[37m\u001b[0m \u001b[1m4s\u001b[0m 2ms/step - accuracy: 0.7774 - loss: 0.5121 - val_accuracy: 0.7890 - val_loss: 0.4886\n",
            "Epoch 4/20\n",
            "\u001b[1m2250/2250\u001b[0m \u001b[32m━━━━━━━━━━━━━━━━━━━━\u001b[0m\u001b[37m\u001b[0m \u001b[1m4s\u001b[0m 2ms/step - accuracy: 0.8025 - loss: 0.4663 - val_accuracy: 0.8176 - val_loss: 0.4348\n",
            "Epoch 5/20\n",
            "\u001b[1m2250/2250\u001b[0m \u001b[32m━━━━━━━━━━━━━━━━━━━━\u001b[0m\u001b[37m\u001b[0m \u001b[1m6s\u001b[0m 2ms/step - accuracy: 0.8142 - loss: 0.4359 - val_accuracy: 0.8209 - val_loss: 0.4272\n",
            "Epoch 6/20\n",
            "\u001b[1m2250/2250\u001b[0m \u001b[32m━━━━━━━━━━━━━━━━━━━━\u001b[0m\u001b[37m\u001b[0m \u001b[1m5s\u001b[0m 2ms/step - accuracy: 0.8296 - loss: 0.4064 - val_accuracy: 0.8380 - val_loss: 0.3816\n",
            "Epoch 7/20\n",
            "\u001b[1m2250/2250\u001b[0m \u001b[32m━━━━━━━━━━━━━━━━━━━━\u001b[0m\u001b[37m\u001b[0m \u001b[1m7s\u001b[0m 2ms/step - accuracy: 0.8413 - loss: 0.3805 - val_accuracy: 0.8514 - val_loss: 0.3633\n",
            "Epoch 8/20\n",
            "\u001b[1m2250/2250\u001b[0m \u001b[32m━━━━━━━━━━━━━━━━━━━━\u001b[0m\u001b[37m\u001b[0m \u001b[1m9s\u001b[0m 2ms/step - accuracy: 0.8456 - loss: 0.3664 - val_accuracy: 0.8484 - val_loss: 0.3589\n",
            "Epoch 9/20\n",
            "\u001b[1m2250/2250\u001b[0m \u001b[32m━━━━━━━━━━━━━━━━━━━━\u001b[0m\u001b[37m\u001b[0m \u001b[1m6s\u001b[0m 2ms/step - accuracy: 0.8527 - loss: 0.3539 - val_accuracy: 0.8604 - val_loss: 0.3356\n",
            "Epoch 10/20\n",
            "\u001b[1m2250/2250\u001b[0m \u001b[32m━━━━━━━━━━━━━━━━━━━━\u001b[0m\u001b[37m\u001b[0m \u001b[1m9s\u001b[0m 2ms/step - accuracy: 0.8589 - loss: 0.3411 - val_accuracy: 0.8625 - val_loss: 0.3311\n",
            "Epoch 11/20\n",
            "\u001b[1m2250/2250\u001b[0m \u001b[32m━━━━━━━━━━━━━━━━━━━━\u001b[0m\u001b[37m\u001b[0m \u001b[1m5s\u001b[0m 2ms/step - accuracy: 0.8653 - loss: 0.3296 - val_accuracy: 0.8708 - val_loss: 0.3180\n",
            "Epoch 12/20\n",
            "\u001b[1m2250/2250\u001b[0m \u001b[32m━━━━━━━━━━━━━━━━━━━━\u001b[0m\u001b[37m\u001b[0m \u001b[1m5s\u001b[0m 2ms/step - accuracy: 0.8688 - loss: 0.3220 - val_accuracy: 0.8724 - val_loss: 0.3139\n",
            "Epoch 13/20\n",
            "\u001b[1m2250/2250\u001b[0m \u001b[32m━━━━━━━━━━━━━━━━━━━━\u001b[0m\u001b[37m\u001b[0m \u001b[1m7s\u001b[0m 2ms/step - accuracy: 0.8704 - loss: 0.3164 - val_accuracy: 0.8799 - val_loss: 0.3000\n",
            "Epoch 14/20\n",
            "\u001b[1m2250/2250\u001b[0m \u001b[32m━━━━━━━━━━━━━━━━━━━━\u001b[0m\u001b[37m\u001b[0m \u001b[1m8s\u001b[0m 2ms/step - accuracy: 0.8752 - loss: 0.3063 - val_accuracy: 0.8829 - val_loss: 0.2930\n",
            "Epoch 15/20\n",
            "\u001b[1m2250/2250\u001b[0m \u001b[32m━━━━━━━━━━━━━━━━━━━━\u001b[0m\u001b[37m\u001b[0m \u001b[1m7s\u001b[0m 2ms/step - accuracy: 0.8786 - loss: 0.2991 - val_accuracy: 0.8719 - val_loss: 0.3080\n",
            "Epoch 16/20\n",
            "\u001b[1m2250/2250\u001b[0m \u001b[32m━━━━━━━━━━━━━━━━━━━━\u001b[0m\u001b[37m\u001b[0m \u001b[1m4s\u001b[0m 2ms/step - accuracy: 0.8798 - loss: 0.2963 - val_accuracy: 0.8900 - val_loss: 0.2774\n",
            "Epoch 17/20\n",
            "\u001b[1m2250/2250\u001b[0m \u001b[32m━━━━━━━━━━━━━━━━━━━━\u001b[0m\u001b[37m\u001b[0m \u001b[1m5s\u001b[0m 2ms/step - accuracy: 0.8859 - loss: 0.2828 - val_accuracy: 0.8800 - val_loss: 0.2960\n",
            "Epoch 18/20\n",
            "\u001b[1m2250/2250\u001b[0m \u001b[32m━━━━━━━━━━━━━━━━━━━━\u001b[0m\u001b[37m\u001b[0m \u001b[1m5s\u001b[0m 2ms/step - accuracy: 0.8892 - loss: 0.2779 - val_accuracy: 0.8854 - val_loss: 0.2841\n",
            "Epoch 19/20\n",
            "\u001b[1m2250/2250\u001b[0m \u001b[32m━━━━━━━━━━━━━━━━━━━━\u001b[0m\u001b[37m\u001b[0m \u001b[1m4s\u001b[0m 2ms/step - accuracy: 0.8888 - loss: 0.2739 - val_accuracy: 0.8914 - val_loss: 0.2683\n",
            "Epoch 20/20\n",
            "\u001b[1m2250/2250\u001b[0m \u001b[32m━━━━━━━━━━━━━━━━━━━━\u001b[0m\u001b[37m\u001b[0m \u001b[1m5s\u001b[0m 2ms/step - accuracy: 0.8932 - loss: 0.2668 - val_accuracy: 0.8979 - val_loss: 0.2615\n"
          ]
        },
        {
          "data": {
            "text/plain": [
              "<keras.src.callbacks.history.History at 0x7f9d01d9cf50>"
            ]
          },
          "execution_count": 21,
          "metadata": {},
          "output_type": "execute_result"
        }
      ],
      "source": [
        "# 3. Modeli Eğitme\n",
        "model.fit(X_train, y_train, epochs=20, batch_size=32, validation_split=0.1)"
      ]
    },
    {
      "cell_type": "code",
      "execution_count": null,
      "metadata": {
        "colab": {
          "base_uri": "https://localhost:8080/"
        },
        "id": "NLzfacHHNyJ3",
        "outputId": "bef2f87e-bea5-481a-d851-9c37535ccba1"
      },
      "outputs": [
        {
          "name": "stderr",
          "output_type": "stream",
          "text": [
            "WARNING:absl:You are saving your model as an HDF5 file via `model.save()` or `keras.saving.save_model(model)`. This file format is considered legacy. We recommend using instead the native Keras format, e.g. `model.save('my_model.keras')` or `keras.saving.save_model(model, 'my_model.keras')`. \n"
          ]
        }
      ],
      "source": [
        "# Modeli kaydet\n",
        "model.save(\"xox_model.h5\")"
      ]
    },
    {
      "cell_type": "code",
      "execution_count": null,
      "metadata": {
        "colab": {
          "base_uri": "https://localhost:8080/"
        },
        "id": "AC9LWvHrOK_R",
        "outputId": "74264af6-d43b-46a6-9ad3-5bc3c770dbee"
      },
      "outputs": [
        {
          "name": "stderr",
          "output_type": "stream",
          "text": [
            "WARNING:absl:Compiled the loaded model, but the compiled metrics have yet to be built. `model.compile_metrics` will be empty until you train or evaluate the model.\n"
          ]
        }
      ],
      "source": [
        "# 4. Model Yükleme ve Test Etme\n",
        "from tensorflow.keras.models import load_model\n",
        "\n",
        "# Eğitilmiş modeli yükleme\n",
        "model = load_model(\"xox_model.h5\")"
      ]
    },
    {
      "cell_type": "code",
      "execution_count": null,
      "metadata": {
        "colab": {
          "base_uri": "https://localhost:8080/"
        },
        "id": "Tg4z0ltwOMzm",
        "outputId": "334356dd-c08c-4a66-e130-1817ffa3e555"
      },
      "outputs": [
        {
          "name": "stdout",
          "output_type": "stream",
          "text": [
            "\u001b[1m625/625\u001b[0m \u001b[32m━━━━━━━━━━━━━━━━━━━━\u001b[0m\u001b[37m\u001b[0m \u001b[1m1s\u001b[0m 1ms/step - accuracy: 0.8996 - loss: 0.2656\n",
            "Test Doğruluğu: 0.89\n"
          ]
        }
      ],
      "source": [
        "# Test verisinde doğruluk\n",
        "test_loss, test_acc = model.evaluate(X_test, y_test)\n",
        "print(f\"Test Doğruluğu: {test_acc:.2f}\")"
      ]
    },
    {
      "cell_type": "code",
      "execution_count": null,
      "metadata": {
        "id": "Ddr6HI5zOPYE"
      },
      "outputs": [],
      "source": [
        "# 5. XOX Tahtası ile Tahmin Yapma\n",
        "def tahmin_yap(model, tahta):\n",
        "    \"\"\"\n",
        "    Modelin bir XOX tahtasında tahmin yapmasını sağlar.\n",
        "    \"\"\"\n",
        "    tahta = np.array(tahta).reshape(1, 3, 3, 1)\n",
        "    tahmin = model.predict(tahta)\n",
        "    sonuc = np.argmax(tahmin)\n",
        "\n",
        "    if sonuc == 0:\n",
        "        return \"Oyun Berabere.\"\n",
        "    elif sonuc == 1:\n",
        "        return \"X Kazandı!\"\n",
        "    elif sonuc == 2:\n",
        "        return \"O Kazandı!\""
      ]
    },
    {
      "cell_type": "code",
      "execution_count": null,
      "metadata": {
        "id": "kdgK66SbOQ_7"
      },
      "outputs": [],
      "source": [
        "# Örnek XOX tahtası\n",
        "xox_tahtasi = [\n",
        "    [1, 0, 0],\n",
        "    [0, 1, -1],\n",
        "    [-1, 0, 1]\n",
        "]"
      ]
    },
    {
      "cell_type": "code",
      "execution_count": null,
      "metadata": {
        "colab": {
          "base_uri": "https://localhost:8080/"
        },
        "id": "iQCr4D8hM3ky",
        "outputId": "8ae3144f-fee8-441e-adb8-3f2271cbb24e"
      },
      "outputs": [
        {
          "name": "stdout",
          "output_type": "stream",
          "text": [
            "\u001b[1m1/1\u001b[0m \u001b[32m━━━━━━━━━━━━━━━━━━━━\u001b[0m\u001b[37m\u001b[0m \u001b[1m0s\u001b[0m 21ms/step\n",
            "Tahmin: X Kazandı!\n"
          ]
        }
      ],
      "source": [
        "# Tahmin yap\n",
        "sonuc = tahmin_yap(model, xox_tahtasi)\n",
        "print(\"Tahmin:\", sonuc)\n"
      ]
    },
    {
      "cell_type": "markdown",
      "metadata": {
        "id": "HSSI2z7TWIYn"
      },
      "source": [
        "# Deneme 2"
      ]
    },
    {
      "cell_type": "code",
      "execution_count": null,
      "metadata": {
        "colab": {
          "base_uri": "https://localhost:8080/"
        },
        "id": "eK4ushJIWJNC",
        "outputId": "9fc17072-c8d8-4595-e59d-a7fde9a4f83d"
      },
      "outputs": [
        {
          "output_type": "stream",
          "name": "stdout",
          "text": [
            "Epoch 1/30\n"
          ]
        },
        {
          "output_type": "stream",
          "name": "stderr",
          "text": [
            "/usr/local/lib/python3.11/dist-packages/keras/src/layers/convolutional/base_conv.py:107: UserWarning: Do not pass an `input_shape`/`input_dim` argument to a layer. When using Sequential models, prefer using an `Input(shape)` object as the first layer in the model instead.\n",
            "  super().__init__(activity_regularizer=activity_regularizer, **kwargs)\n"
          ]
        },
        {
          "output_type": "stream",
          "name": "stdout",
          "text": [
            "\u001b[1m    8/15216\u001b[0m \u001b[37m━━━━━━━━━━━━━━━━━━━━\u001b[0m \u001b[1m3:58\u001b[0m 16ms/step - accuracy: 0.1322 - loss: 2.2010"
          ]
        },
        {
          "output_type": "stream",
          "name": "stderr",
          "text": [
            "/usr/local/lib/python3.11/dist-packages/keras/src/trainers/data_adapters/py_dataset_adapter.py:122: UserWarning: Your `PyDataset` class should call `super().__init__(**kwargs)` in its constructor. `**kwargs` can include `workers`, `use_multiprocessing`, `max_queue_size`. Do not pass these arguments to `fit()`, as they will be ignored.\n",
            "  self._warn_if_super_not_called()\n"
          ]
        },
        {
          "output_type": "stream",
          "name": "stdout",
          "text": [
            "\u001b[1m15216/15216\u001b[0m \u001b[32m━━━━━━━━━━━━━━━━━━━━\u001b[0m\u001b[37m\u001b[0m \u001b[1m204s\u001b[0m 13ms/step - accuracy: 0.3524 - loss: 1.4091\n",
            "Epoch 2/30\n",
            "\u001b[1m15216/15216\u001b[0m \u001b[32m━━━━━━━━━━━━━━━━━━━━\u001b[0m\u001b[37m\u001b[0m \u001b[1m200s\u001b[0m 13ms/step - accuracy: 0.3778 - loss: 1.2155\n",
            "Epoch 3/30\n",
            "\u001b[1m15216/15216\u001b[0m \u001b[32m━━━━━━━━━━━━━━━━━━━━\u001b[0m\u001b[37m\u001b[0m \u001b[1m199s\u001b[0m 13ms/step - accuracy: 0.3808 - loss: 1.1990\n",
            "Epoch 4/30\n",
            "\u001b[1m15216/15216\u001b[0m \u001b[32m━━━━━━━━━━━━━━━━━━━━\u001b[0m\u001b[37m\u001b[0m \u001b[1m199s\u001b[0m 13ms/step - accuracy: 0.3835 - loss: 1.1875\n",
            "Epoch 5/30\n",
            "\u001b[1m15216/15216\u001b[0m \u001b[32m━━━━━━━━━━━━━━━━━━━━\u001b[0m\u001b[37m\u001b[0m \u001b[1m203s\u001b[0m 13ms/step - accuracy: 0.3816 - loss: 1.1851\n",
            "Epoch 6/30\n",
            "\u001b[1m15216/15216\u001b[0m \u001b[32m━━━━━━━━━━━━━━━━━━━━\u001b[0m\u001b[37m\u001b[0m \u001b[1m199s\u001b[0m 13ms/step - accuracy: 0.3827 - loss: 1.1814\n",
            "Epoch 7/30\n",
            "\u001b[1m15216/15216\u001b[0m \u001b[32m━━━━━━━━━━━━━━━━━━━━\u001b[0m\u001b[37m\u001b[0m \u001b[1m205s\u001b[0m 13ms/step - accuracy: 0.3845 - loss: 1.1803\n",
            "Epoch 8/30\n",
            "\u001b[1m15216/15216\u001b[0m \u001b[32m━━━━━━━━━━━━━━━━━━━━\u001b[0m\u001b[37m\u001b[0m \u001b[1m261s\u001b[0m 13ms/step - accuracy: 0.3842 - loss: 1.1795\n",
            "Epoch 9/30\n",
            "\u001b[1m15216/15216\u001b[0m \u001b[32m━━━━━━━━━━━━━━━━━━━━\u001b[0m\u001b[37m\u001b[0m \u001b[1m202s\u001b[0m 13ms/step - accuracy: 0.3858 - loss: 1.1789\n",
            "Epoch 10/30\n",
            "\u001b[1m15216/15216\u001b[0m \u001b[32m━━━━━━━━━━━━━━━━━━━━\u001b[0m\u001b[37m\u001b[0m \u001b[1m201s\u001b[0m 13ms/step - accuracy: 0.3846 - loss: 1.1798\n",
            "Epoch 11/30\n",
            "\u001b[1m15216/15216\u001b[0m \u001b[32m━━━━━━━━━━━━━━━━━━━━\u001b[0m\u001b[37m\u001b[0m \u001b[1m201s\u001b[0m 13ms/step - accuracy: 0.3852 - loss: 1.1783\n",
            "Epoch 12/30\n",
            "\u001b[1m15216/15216\u001b[0m \u001b[32m━━━━━━━━━━━━━━━━━━━━\u001b[0m\u001b[37m\u001b[0m \u001b[1m201s\u001b[0m 13ms/step - accuracy: 0.3852 - loss: 1.1775\n",
            "Epoch 13/30\n",
            "\u001b[1m15216/15216\u001b[0m \u001b[32m━━━━━━━━━━━━━━━━━━━━\u001b[0m\u001b[37m\u001b[0m \u001b[1m201s\u001b[0m 13ms/step - accuracy: 0.3842 - loss: 1.1777\n",
            "Epoch 14/30\n",
            "\u001b[1m15216/15216\u001b[0m \u001b[32m━━━━━━━━━━━━━━━━━━━━\u001b[0m\u001b[37m\u001b[0m \u001b[1m202s\u001b[0m 13ms/step - accuracy: 0.3859 - loss: 1.1750\n",
            "Epoch 15/30\n",
            "\u001b[1m15216/15216\u001b[0m \u001b[32m━━━━━━━━━━━━━━━━━━━━\u001b[0m\u001b[37m\u001b[0m \u001b[1m202s\u001b[0m 13ms/step - accuracy: 0.3841 - loss: 1.1802\n",
            "Epoch 16/30\n",
            "\u001b[1m15216/15216\u001b[0m \u001b[32m━━━━━━━━━━━━━━━━━━━━\u001b[0m\u001b[37m\u001b[0m \u001b[1m205s\u001b[0m 13ms/step - accuracy: 0.3852 - loss: 1.1752\n",
            "Epoch 17/30\n",
            "\u001b[1m15216/15216\u001b[0m \u001b[32m━━━━━━━━━━━━━━━━━━━━\u001b[0m\u001b[37m\u001b[0m \u001b[1m198s\u001b[0m 13ms/step - accuracy: 0.3831 - loss: 1.1776\n",
            "Epoch 18/30\n",
            "\u001b[1m15216/15216\u001b[0m \u001b[32m━━━━━━━━━━━━━━━━━━━━\u001b[0m\u001b[37m\u001b[0m \u001b[1m200s\u001b[0m 13ms/step - accuracy: 0.3833 - loss: 1.1787\n",
            "Epoch 19/30\n",
            "\u001b[1m15216/15216\u001b[0m \u001b[32m━━━━━━━━━━━━━━━━━━━━\u001b[0m\u001b[37m\u001b[0m \u001b[1m202s\u001b[0m 13ms/step - accuracy: 0.3854 - loss: 1.1764\n",
            "Epoch 20/30\n",
            "\u001b[1m15216/15216\u001b[0m \u001b[32m━━━━━━━━━━━━━━━━━━━━\u001b[0m\u001b[37m\u001b[0m \u001b[1m201s\u001b[0m 13ms/step - accuracy: 0.3842 - loss: 1.1761\n",
            "Epoch 21/30\n",
            "\u001b[1m15216/15216\u001b[0m \u001b[32m━━━━━━━━━━━━━━━━━━━━\u001b[0m\u001b[37m\u001b[0m \u001b[1m199s\u001b[0m 13ms/step - accuracy: 0.3859 - loss: 1.1760\n",
            "Epoch 22/30\n",
            "\u001b[1m15216/15216\u001b[0m \u001b[32m━━━━━━━━━━━━━━━━━━━━\u001b[0m\u001b[37m\u001b[0m \u001b[1m205s\u001b[0m 13ms/step - accuracy: 0.3846 - loss: 1.1780\n",
            "Epoch 23/30\n",
            "\u001b[1m15216/15216\u001b[0m \u001b[32m━━━━━━━━━━━━━━━━━━━━\u001b[0m\u001b[37m\u001b[0m \u001b[1m200s\u001b[0m 13ms/step - accuracy: 0.3848 - loss: 1.1781\n",
            "Epoch 24/30\n",
            "\u001b[1m15216/15216\u001b[0m \u001b[32m━━━━━━━━━━━━━━━━━━━━\u001b[0m\u001b[37m\u001b[0m \u001b[1m201s\u001b[0m 13ms/step - accuracy: 0.3836 - loss: 1.1786\n",
            "Epoch 25/30\n",
            "\u001b[1m15216/15216\u001b[0m \u001b[32m━━━━━━━━━━━━━━━━━━━━\u001b[0m\u001b[37m\u001b[0m \u001b[1m202s\u001b[0m 13ms/step - accuracy: 0.3834 - loss: 1.1791\n",
            "Epoch 26/30\n",
            "\u001b[1m15216/15216\u001b[0m \u001b[32m━━━━━━━━━━━━━━━━━━━━\u001b[0m\u001b[37m\u001b[0m \u001b[1m201s\u001b[0m 13ms/step - accuracy: 0.3855 - loss: 1.1781\n",
            "Epoch 27/30\n",
            "\u001b[1m15216/15216\u001b[0m \u001b[32m━━━━━━━━━━━━━━━━━━━━\u001b[0m\u001b[37m\u001b[0m \u001b[1m201s\u001b[0m 13ms/step - accuracy: 0.3836 - loss: 1.1767\n",
            "Epoch 28/30\n",
            "\u001b[1m15216/15216\u001b[0m \u001b[32m━━━━━━━━━━━━━━━━━━━━\u001b[0m\u001b[37m\u001b[0m \u001b[1m202s\u001b[0m 13ms/step - accuracy: 0.3857 - loss: 1.1739\n",
            "Epoch 29/30\n",
            "\u001b[1m15216/15216\u001b[0m \u001b[32m━━━━━━━━━━━━━━━━━━━━\u001b[0m\u001b[37m\u001b[0m \u001b[1m207s\u001b[0m 13ms/step - accuracy: 0.3844 - loss: 1.1774\n",
            "Epoch 30/30\n",
            "\u001b[1m15216/15216\u001b[0m \u001b[32m━━━━━━━━━━━━━━━━━━━━\u001b[0m\u001b[37m\u001b[0m \u001b[1m206s\u001b[0m 14ms/step - accuracy: 0.3850 - loss: 1.1750\n"
          ]
        },
        {
          "output_type": "stream",
          "name": "stderr",
          "text": [
            "WARNING:absl:You are saving your model as an HDF5 file via `model.save()` or `keras.saving.save_model(model)`. This file format is considered legacy. We recommend using instead the native Keras format, e.g. `model.save('my_model.keras')` or `keras.saving.save_model(model, 'my_model.keras')`. \n"
          ]
        },
        {
          "output_type": "stream",
          "name": "stdout",
          "text": [
            ". . .\n",
            ". . .\n",
            ". . .\n",
            "Sıra insan oyuncuda!\n",
            "Hamleni yap (satır, sütun): 1,1\n",
            ". . .\n",
            ". X .\n",
            ". . .\n",
            "Sıra AI oyuncuda!\n",
            "\u001b[1m1/1\u001b[0m \u001b[32m━━━━━━━━━━━━━━━━━━━━\u001b[0m\u001b[37m\u001b[0m \u001b[1m0s\u001b[0m 124ms/step\n",
            ". . .\n",
            ". X O\n",
            ". . .\n",
            "Sıra insan oyuncuda!\n",
            "Hamleni yap (satır, sütun): 2,2\n",
            ". . .\n",
            ". X O\n",
            ". . X\n",
            "Sıra AI oyuncuda!\n",
            "\u001b[1m1/1\u001b[0m \u001b[32m━━━━━━━━━━━━━━━━━━━━\u001b[0m\u001b[37m\u001b[0m \u001b[1m0s\u001b[0m 26ms/step\n",
            ". . .\n",
            "O X O\n",
            ". . X\n",
            "Sıra insan oyuncuda!\n",
            "Hamleni yap (satır, sütun): 0\n",
            "Geçersiz giriş. Tekrar dene.\n",
            "Hamleni yap (satır, sütun): 0,0\n",
            "X . .\n",
            "O X O\n",
            ". . X\n",
            "Tebrikler, X kazandı!\n"
          ]
        }
      ],
      "source": [
        "import numpy as np\n",
        "import tensorflow as tf\n",
        "from tensorflow.keras import layers, models\n",
        "import random\n",
        "from tensorflow.keras.preprocessing.image import ImageDataGenerator\n",
        "from matplotlib import pyplot as plt\n",
        "\n",
        "# Tahta durumları\n",
        "EMPTY = 0\n",
        "PLAYER_X = 1\n",
        "PLAYER_O = -1\n",
        "\n",
        "# Basit CNN modelini oluşturma (MaxPooling kaldırıldı)\n",
        "def build_simple_cnn_model():\n",
        "    model = models.Sequential([\n",
        "        layers.Conv2D(32, (2, 2), activation='relu', input_shape=(3, 3, 1)),\n",
        "        layers.Conv2D(64, (1, 1), activation='relu'),\n",
        "        layers.Conv2D(128, (1, 1), activation='relu'),\n",
        "        layers.Flatten(),\n",
        "        layers.Dense(128, activation='relu'),\n",
        "        layers.Dropout(0.5),\n",
        "        layers.Dense(9, activation='softmax')  # 9 olasılık, 3x3 tahta\n",
        "    ])\n",
        "    model.compile(optimizer='adam', loss='categorical_crossentropy', metrics=['accuracy'])\n",
        "    return model\n",
        "\n",
        "# Veri setini oluşturma\n",
        "def generate_training_data(num_samples=100000):\n",
        "    X = []\n",
        "    y = []\n",
        "    for _ in range(num_samples):\n",
        "        board = np.random.choice([EMPTY, PLAYER_X, PLAYER_O], size=(3, 3))\n",
        "        valid_moves = np.argwhere(board == EMPTY)\n",
        "        if len(valid_moves) > 0:\n",
        "            move = random.choice(valid_moves)\n",
        "            label = np.zeros(9)\n",
        "            label[move[0] * 3 + move[1]] = 1\n",
        "            X.append(board.reshape(3, 3, 1))  # Kanal boyutunu ekle\n",
        "            y.append(label)\n",
        "    return np.array(X), np.array(y)\n",
        "\n",
        "# Eğitim verisini oluştur\n",
        "X_train, y_train = generate_training_data(num_samples=500000)\n",
        "\n",
        "# Veri artırma (augmentation)\n",
        "datagen = ImageDataGenerator(\n",
        "    rotation_range=15,\n",
        "    width_shift_range=0.1,\n",
        "    height_shift_range=0.1\n",
        ")\n",
        "datagen.fit(X_train)\n",
        "\n",
        "# Modeli oluştur ve eğit\n",
        "model = build_simple_cnn_model()\n",
        "model.fit(datagen.flow(X_train, y_train, batch_size=32), epochs=30, verbose=1)\n",
        "\n",
        "# Modeli kaydet\n",
        "model.save(\"xox_model_simple_cnn.h5\")\n",
        "\n",
        "# En iyi hamleyi seçme\n",
        "def en_iyi_hamle(model, tahta):\n",
        "    tahta = tahta.reshape(1, 3, 3, 1)\n",
        "    predictions = model.predict(tahta).reshape(3, 3)\n",
        "    bos_hucreler = np.argwhere(tahta.reshape(3, 3) == EMPTY)\n",
        "    en_iyi = max(bos_hucreler, key=lambda x: predictions[x[0], x[1]])\n",
        "    return en_iyi\n",
        "\n",
        "# Oyun mekaniği\n",
        "def yazdir_tahta(tahta):\n",
        "    semboller = {EMPTY: \".\", PLAYER_X: \"X\", PLAYER_O: \"O\"}\n",
        "    print(\"\\n\".join([\" \".join([semboller[tahta[i][j]] for j in range(3)]) for i in range(3)]))\n",
        "\n",
        "def kontrol_kazanan(tahta):\n",
        "    for i in range(3):\n",
        "        if abs(sum(tahta[i, :])) == 3: return tahta[i, 0]\n",
        "        if abs(sum(tahta[:, i])) == 3: return tahta[0, i]\n",
        "    if abs(tahta.trace()) == 3: return tahta[0, 0]\n",
        "    if abs(np.fliplr(tahta).trace()) == 3: return tahta[0, 2]\n",
        "    if not (tahta == EMPTY).any(): return 0\n",
        "    return None\n",
        "\n",
        "def oyuncu_hamlesi(tahta):\n",
        "    while True:\n",
        "        try:\n",
        "            hamle = input(\"Hamleni yap (satır, sütun): \")\n",
        "            satir, sutun = map(int, hamle.split(\",\"))\n",
        "            if tahta[satir, sutun] == EMPTY:\n",
        "                return satir, sutun\n",
        "            else:\n",
        "                print(\"Bu hücre dolu!\")\n",
        "        except:\n",
        "            print(\"Geçersiz giriş. Tekrar dene.\")\n",
        "\n",
        "def oyun():\n",
        "    tahta = np.zeros((3, 3), dtype=int)\n",
        "    oyuncu = PLAYER_X\n",
        "    while True:\n",
        "        yazdir_tahta(tahta)\n",
        "        kazanan = kontrol_kazanan(tahta)\n",
        "        if kazanan is not None:\n",
        "            if kazanan == PLAYER_X:\n",
        "                print(\"Tebrikler, X kazandı!\")\n",
        "            elif kazanan == PLAYER_O:\n",
        "                print(\"O kazandı!\")\n",
        "            else:\n",
        "                print(\"Oyun berabere!\")\n",
        "            break\n",
        "\n",
        "        if oyuncu == PLAYER_X:\n",
        "            print(\"Sıra insan oyuncuda!\")\n",
        "            satir, sutun = oyuncu_hamlesi(tahta)\n",
        "        else:\n",
        "            print(\"Sıra AI oyuncuda!\")\n",
        "            satir, sutun = en_iyi_hamle(model, tahta)\n",
        "\n",
        "        tahta[satir, sutun] = oyuncu\n",
        "        oyuncu = PLAYER_O if oyuncu == PLAYER_X else PLAYER_X\n",
        "\n",
        "# Eğitim sonrası tahmin raporu\n",
        "def performans_analizi(X_test, y_test):\n",
        "    predictions = model.predict(X_test)\n",
        "    y_true = y_test.argmax(axis=1)\n",
        "    y_pred = predictions.argmax(axis=1)\n",
        "    print(classification_report(y_true, y_pred))\n",
        "\n",
        "# Oyun başlatma\n",
        "oyun()\n",
        "\n"
      ]
    },
    {
      "cell_type": "code",
      "source": [
        "oyun()"
      ],
      "metadata": {
        "colab": {
          "base_uri": "https://localhost:8080/"
        },
        "id": "AE4gjIPB37bg",
        "outputId": "cff97248-23c8-44f3-9561-2d2bfd00eeb4"
      },
      "execution_count": null,
      "outputs": [
        {
          "output_type": "stream",
          "name": "stdout",
          "text": [
            ". . .\n",
            ". . .\n",
            ". . .\n",
            "Sıra insan oyuncuda!\n",
            "Hamleni yap (satır, sütun): 0,0\n",
            "X . .\n",
            ". . .\n",
            ". . .\n",
            "Sıra AI oyuncuda!\n",
            "\u001b[1m1/1\u001b[0m \u001b[32m━━━━━━━━━━━━━━━━━━━━\u001b[0m\u001b[37m\u001b[0m \u001b[1m0s\u001b[0m 26ms/step\n",
            "X . .\n",
            ". O .\n",
            ". . .\n",
            "Sıra insan oyuncuda!\n",
            "Hamleni yap (satır, sütun): 0,1\n",
            "X X .\n",
            ". O .\n",
            ". . .\n",
            "Sıra AI oyuncuda!\n",
            "\u001b[1m1/1\u001b[0m \u001b[32m━━━━━━━━━━━━━━━━━━━━\u001b[0m\u001b[37m\u001b[0m \u001b[1m0s\u001b[0m 26ms/step\n",
            "X X .\n",
            ". O O\n",
            ". . .\n",
            "Sıra insan oyuncuda!\n",
            "Hamleni yap (satır, sütun): 1,0\n",
            "X X .\n",
            "X O O\n",
            ". . .\n",
            "Sıra AI oyuncuda!\n",
            "\u001b[1m1/1\u001b[0m \u001b[32m━━━━━━━━━━━━━━━━━━━━\u001b[0m\u001b[37m\u001b[0m \u001b[1m0s\u001b[0m 26ms/step\n",
            "X X O\n",
            "X O O\n",
            ". . .\n",
            "Sıra insan oyuncuda!\n",
            "Hamleni yap (satır, sütun): 1,2\n",
            "Bu hücre dolu!\n",
            "Hamleni yap (satır, sütun): 2,1\n",
            "X X O\n",
            "X O O\n",
            ". X .\n",
            "Sıra AI oyuncuda!\n",
            "\u001b[1m1/1\u001b[0m \u001b[32m━━━━━━━━━━━━━━━━━━━━\u001b[0m\u001b[37m\u001b[0m \u001b[1m0s\u001b[0m 26ms/step\n",
            "X X O\n",
            "X O O\n",
            "O X .\n",
            "O kazandı!\n"
          ]
        }
      ]
    },
    {
      "cell_type": "code",
      "source": [],
      "metadata": {
        "id": "SB0Y8sQqROh_"
      },
      "execution_count": null,
      "outputs": []
    }
  ],
  "metadata": {
    "colab": {
      "provenance": []
    },
    "kernelspec": {
      "display_name": "Python 3",
      "name": "python3"
    },
    "language_info": {
      "name": "python"
    }
  },
  "nbformat": 4,
  "nbformat_minor": 0
}